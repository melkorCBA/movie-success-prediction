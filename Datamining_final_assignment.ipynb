{
  "nbformat": 4,
  "nbformat_minor": 0,
  "metadata": {
    "colab": {
      "name": "Datamining-final-assignment.ipynb",
      "provenance": [],
      "collapsed_sections": [],
      "mount_file_id": "1cyvWv_dOwlxDOmA9jROYziYOrzekyqu5",
      "authorship_tag": "ABX9TyP99hpjQph0rEPxQd786ZZY",
      "include_colab_link": true
    },
    "kernelspec": {
      "name": "python3",
      "display_name": "Python 3"
    }
  },
  "cells": [
    {
      "cell_type": "markdown",
      "metadata": {
        "id": "view-in-github",
        "colab_type": "text"
      },
      "source": [
        "<a href=\"https://colab.research.google.com/github/melkorCBA/movie-success-prediction/blob/main/Datamining_final_assignment.ipynb\" target=\"_parent\"><img src=\"https://colab.research.google.com/assets/colab-badge.svg\" alt=\"Open In Colab\"/></a>"
      ]
    },
    {
      "cell_type": "code",
      "metadata": {
        "colab": {
          "base_uri": "https://localhost:8080/",
          "height": 170
        },
        "id": "Ts0MzpEPniyN",
        "outputId": "457227be-a999-46fa-9932-e8b1ec70e86f"
      },
      "source": [
        "%matplotlib inline\r\n",
        "from IPython.display import Image, HTML\r\n",
        "import json\r\n",
        "import datetime\r\n",
        "import ast\r\n",
        "import pandas as pd\r\n",
        "import matplotlib.pyplot as plt\r\n",
        "import seaborn as sns\r\n",
        "import numpy as np\r\n",
        "from scipy import stats\r\n",
        "from sklearn.ensemble import GradientBoostingClassifier, GradientBoostingRegressor\r\n",
        "from sklearn.dummy import DummyClassifier, DummyRegressor\r\n",
        "from sklearn.model_selection import train_test_split\r\n",
        "from xgboost import XGBClassifier, XGBRegressor\r\n",
        "from wordcloud import WordCloud, STOPWORDS\r\n",
        "import plotly\r\n",
        "import plotly.offline as py\r\n",
        "py.init_notebook_mode(connected=True)\r\n",
        "import plotly.graph_objs as go\r\n",
        "import plotly.tools as tls\r\n",
        "!pip install chart_studio\r\n",
        "import chart_studio\r\n",
        "chart_studio.tools.set_credentials_file(username='melkorCba', api_key='Fn4k6yKM6ebkQuHp6MoG')\r\n",
        "\r\n",
        "sns.set_style('whitegrid')\r\n",
        "sns.set(font_scale=1.25)\r\n",
        "pd.set_option('display.max_colwidth', 50)"
      ],
      "execution_count": 157,
      "outputs": [
        {
          "output_type": "display_data",
          "data": {
            "text/html": [
              "        <script type=\"text/javascript\">\n",
              "        window.PlotlyConfig = {MathJaxConfig: 'local'};\n",
              "        if (window.MathJax) {MathJax.Hub.Config({SVG: {font: \"STIX-Web\"}});}\n",
              "        if (typeof require !== 'undefined') {\n",
              "        require.undef(\"plotly\");\n",
              "        requirejs.config({\n",
              "            paths: {\n",
              "                'plotly': ['https://cdn.plot.ly/plotly-latest.min']\n",
              "            }\n",
              "        });\n",
              "        require(['plotly'], function(Plotly) {\n",
              "            window._Plotly = Plotly;\n",
              "        });\n",
              "        }\n",
              "        </script>\n",
              "        "
            ]
          },
          "metadata": {
            "tags": []
          }
        },
        {
          "output_type": "stream",
          "text": [
            "Requirement already satisfied: chart_studio in /usr/local/lib/python3.6/dist-packages (1.1.0)\n",
            "Requirement already satisfied: plotly in /usr/local/lib/python3.6/dist-packages (from chart_studio) (4.4.1)\n",
            "Requirement already satisfied: six in /usr/local/lib/python3.6/dist-packages (from chart_studio) (1.15.0)\n",
            "Requirement already satisfied: retrying>=1.3.3 in /usr/local/lib/python3.6/dist-packages (from chart_studio) (1.3.3)\n",
            "Requirement already satisfied: requests in /usr/local/lib/python3.6/dist-packages (from chart_studio) (2.23.0)\n",
            "Requirement already satisfied: chardet<4,>=3.0.2 in /usr/local/lib/python3.6/dist-packages (from requests->chart_studio) (3.0.4)\n",
            "Requirement already satisfied: certifi>=2017.4.17 in /usr/local/lib/python3.6/dist-packages (from requests->chart_studio) (2020.12.5)\n",
            "Requirement already satisfied: idna<3,>=2.5 in /usr/local/lib/python3.6/dist-packages (from requests->chart_studio) (2.10)\n",
            "Requirement already satisfied: urllib3!=1.25.0,!=1.25.1,<1.26,>=1.21.1 in /usr/local/lib/python3.6/dist-packages (from requests->chart_studio) (1.24.3)\n"
          ],
          "name": "stdout"
        }
      ]
    },
    {
      "cell_type": "code",
      "metadata": {
        "colab": {
          "base_uri": "https://localhost:8080/",
          "height": 861
        },
        "id": "HwN5kQ-7xp-Z",
        "outputId": "0de89470-d343-4bba-d756-c53791956fe9"
      },
      "source": [
        "\n",
        "\n",
        "df = pd.read_csv('https://raw.githubusercontent.com/melkorCBA/movie-success-prediction/main/data/movies_metadata.csv')\n",
        "df.head().transpose()"
      ],
      "execution_count": 158,
      "outputs": [
        {
          "output_type": "stream",
          "text": [
            "/usr/local/lib/python3.6/dist-packages/IPython/core/interactiveshell.py:2718: DtypeWarning:\n",
            "\n",
            "Columns (10) have mixed types.Specify dtype option on import or set low_memory=False.\n",
            "\n"
          ],
          "name": "stderr"
        },
        {
          "output_type": "execute_result",
          "data": {
            "text/html": [
              "<div>\n",
              "<style scoped>\n",
              "    .dataframe tbody tr th:only-of-type {\n",
              "        vertical-align: middle;\n",
              "    }\n",
              "\n",
              "    .dataframe tbody tr th {\n",
              "        vertical-align: top;\n",
              "    }\n",
              "\n",
              "    .dataframe thead th {\n",
              "        text-align: right;\n",
              "    }\n",
              "</style>\n",
              "<table border=\"1\" class=\"dataframe\">\n",
              "  <thead>\n",
              "    <tr style=\"text-align: right;\">\n",
              "      <th></th>\n",
              "      <th>0</th>\n",
              "      <th>1</th>\n",
              "      <th>2</th>\n",
              "      <th>3</th>\n",
              "      <th>4</th>\n",
              "    </tr>\n",
              "  </thead>\n",
              "  <tbody>\n",
              "    <tr>\n",
              "      <th>adult</th>\n",
              "      <td>False</td>\n",
              "      <td>False</td>\n",
              "      <td>False</td>\n",
              "      <td>False</td>\n",
              "      <td>False</td>\n",
              "    </tr>\n",
              "    <tr>\n",
              "      <th>belongs_to_collection</th>\n",
              "      <td>{'id': 10194, 'name': 'Toy Story Collection', ...</td>\n",
              "      <td>NaN</td>\n",
              "      <td>{'id': 119050, 'name': 'Grumpy Old Men Collect...</td>\n",
              "      <td>NaN</td>\n",
              "      <td>{'id': 96871, 'name': 'Father of the Bride Col...</td>\n",
              "    </tr>\n",
              "    <tr>\n",
              "      <th>budget</th>\n",
              "      <td>30000000</td>\n",
              "      <td>65000000</td>\n",
              "      <td>0</td>\n",
              "      <td>16000000</td>\n",
              "      <td>0</td>\n",
              "    </tr>\n",
              "    <tr>\n",
              "      <th>genres</th>\n",
              "      <td>[{'id': 16, 'name': 'Animation'}, {'id': 35, '...</td>\n",
              "      <td>[{'id': 12, 'name': 'Adventure'}, {'id': 14, '...</td>\n",
              "      <td>[{'id': 10749, 'name': 'Romance'}, {'id': 35, ...</td>\n",
              "      <td>[{'id': 35, 'name': 'Comedy'}, {'id': 18, 'nam...</td>\n",
              "      <td>[{'id': 35, 'name': 'Comedy'}]</td>\n",
              "    </tr>\n",
              "    <tr>\n",
              "      <th>homepage</th>\n",
              "      <td>http://toystory.disney.com/toy-story</td>\n",
              "      <td>NaN</td>\n",
              "      <td>NaN</td>\n",
              "      <td>NaN</td>\n",
              "      <td>NaN</td>\n",
              "    </tr>\n",
              "    <tr>\n",
              "      <th>id</th>\n",
              "      <td>862</td>\n",
              "      <td>8844</td>\n",
              "      <td>15602</td>\n",
              "      <td>31357</td>\n",
              "      <td>11862</td>\n",
              "    </tr>\n",
              "    <tr>\n",
              "      <th>imdb_id</th>\n",
              "      <td>tt0114709</td>\n",
              "      <td>tt0113497</td>\n",
              "      <td>tt0113228</td>\n",
              "      <td>tt0114885</td>\n",
              "      <td>tt0113041</td>\n",
              "    </tr>\n",
              "    <tr>\n",
              "      <th>original_language</th>\n",
              "      <td>en</td>\n",
              "      <td>en</td>\n",
              "      <td>en</td>\n",
              "      <td>en</td>\n",
              "      <td>en</td>\n",
              "    </tr>\n",
              "    <tr>\n",
              "      <th>original_title</th>\n",
              "      <td>Toy Story</td>\n",
              "      <td>Jumanji</td>\n",
              "      <td>Grumpier Old Men</td>\n",
              "      <td>Waiting to Exhale</td>\n",
              "      <td>Father of the Bride Part II</td>\n",
              "    </tr>\n",
              "    <tr>\n",
              "      <th>overview</th>\n",
              "      <td>Led by Woody, Andy's toys live happily in his ...</td>\n",
              "      <td>When siblings Judy and Peter discover an encha...</td>\n",
              "      <td>A family wedding reignites the ancient feud be...</td>\n",
              "      <td>Cheated on, mistreated and stepped on, the wom...</td>\n",
              "      <td>Just when George Banks has recovered from his ...</td>\n",
              "    </tr>\n",
              "    <tr>\n",
              "      <th>popularity</th>\n",
              "      <td>21.9469</td>\n",
              "      <td>17.0155</td>\n",
              "      <td>11.7129</td>\n",
              "      <td>3.85949</td>\n",
              "      <td>8.38752</td>\n",
              "    </tr>\n",
              "    <tr>\n",
              "      <th>poster_path</th>\n",
              "      <td>/rhIRbceoE9lR4veEXuwCC2wARtG.jpg</td>\n",
              "      <td>/vzmL6fP7aPKNKPRTFnZmiUfciyV.jpg</td>\n",
              "      <td>/6ksm1sjKMFLbO7UY2i6G1ju9SML.jpg</td>\n",
              "      <td>/16XOMpEaLWkrcPqSQqhTmeJuqQl.jpg</td>\n",
              "      <td>/e64sOI48hQXyru7naBFyssKFxVd.jpg</td>\n",
              "    </tr>\n",
              "    <tr>\n",
              "      <th>production_companies</th>\n",
              "      <td>[{'name': 'Pixar Animation Studios', 'id': 3}]</td>\n",
              "      <td>[{'name': 'TriStar Pictures', 'id': 559}, {'na...</td>\n",
              "      <td>[{'name': 'Warner Bros.', 'id': 6194}, {'name'...</td>\n",
              "      <td>[{'name': 'Twentieth Century Fox Film Corporat...</td>\n",
              "      <td>[{'name': 'Sandollar Productions', 'id': 5842}...</td>\n",
              "    </tr>\n",
              "    <tr>\n",
              "      <th>production_countries</th>\n",
              "      <td>[{'iso_3166_1': 'US', 'name': 'United States o...</td>\n",
              "      <td>[{'iso_3166_1': 'US', 'name': 'United States o...</td>\n",
              "      <td>[{'iso_3166_1': 'US', 'name': 'United States o...</td>\n",
              "      <td>[{'iso_3166_1': 'US', 'name': 'United States o...</td>\n",
              "      <td>[{'iso_3166_1': 'US', 'name': 'United States o...</td>\n",
              "    </tr>\n",
              "    <tr>\n",
              "      <th>release_date</th>\n",
              "      <td>1995-10-30</td>\n",
              "      <td>1995-12-15</td>\n",
              "      <td>1995-12-22</td>\n",
              "      <td>1995-12-22</td>\n",
              "      <td>1995-02-10</td>\n",
              "    </tr>\n",
              "    <tr>\n",
              "      <th>revenue</th>\n",
              "      <td>3.73554e+08</td>\n",
              "      <td>2.62797e+08</td>\n",
              "      <td>0</td>\n",
              "      <td>8.14522e+07</td>\n",
              "      <td>7.65789e+07</td>\n",
              "    </tr>\n",
              "    <tr>\n",
              "      <th>runtime</th>\n",
              "      <td>81</td>\n",
              "      <td>104</td>\n",
              "      <td>101</td>\n",
              "      <td>127</td>\n",
              "      <td>106</td>\n",
              "    </tr>\n",
              "    <tr>\n",
              "      <th>spoken_languages</th>\n",
              "      <td>[{'iso_639_1': 'en', 'name': 'English'}]</td>\n",
              "      <td>[{'iso_639_1': 'en', 'name': 'English'}, {'iso...</td>\n",
              "      <td>[{'iso_639_1': 'en', 'name': 'English'}]</td>\n",
              "      <td>[{'iso_639_1': 'en', 'name': 'English'}]</td>\n",
              "      <td>[{'iso_639_1': 'en', 'name': 'English'}]</td>\n",
              "    </tr>\n",
              "    <tr>\n",
              "      <th>status</th>\n",
              "      <td>Released</td>\n",
              "      <td>Released</td>\n",
              "      <td>Released</td>\n",
              "      <td>Released</td>\n",
              "      <td>Released</td>\n",
              "    </tr>\n",
              "    <tr>\n",
              "      <th>tagline</th>\n",
              "      <td>NaN</td>\n",
              "      <td>Roll the dice and unleash the excitement!</td>\n",
              "      <td>Still Yelling. Still Fighting. Still Ready for...</td>\n",
              "      <td>Friends are the people who let you be yourself...</td>\n",
              "      <td>Just When His World Is Back To Normal... He's ...</td>\n",
              "    </tr>\n",
              "    <tr>\n",
              "      <th>title</th>\n",
              "      <td>Toy Story</td>\n",
              "      <td>Jumanji</td>\n",
              "      <td>Grumpier Old Men</td>\n",
              "      <td>Waiting to Exhale</td>\n",
              "      <td>Father of the Bride Part II</td>\n",
              "    </tr>\n",
              "    <tr>\n",
              "      <th>video</th>\n",
              "      <td>False</td>\n",
              "      <td>False</td>\n",
              "      <td>False</td>\n",
              "      <td>False</td>\n",
              "      <td>False</td>\n",
              "    </tr>\n",
              "    <tr>\n",
              "      <th>vote_average</th>\n",
              "      <td>7.7</td>\n",
              "      <td>6.9</td>\n",
              "      <td>6.5</td>\n",
              "      <td>6.1</td>\n",
              "      <td>5.7</td>\n",
              "    </tr>\n",
              "    <tr>\n",
              "      <th>vote_count</th>\n",
              "      <td>5415</td>\n",
              "      <td>2413</td>\n",
              "      <td>92</td>\n",
              "      <td>34</td>\n",
              "      <td>173</td>\n",
              "    </tr>\n",
              "  </tbody>\n",
              "</table>\n",
              "</div>"
            ],
            "text/plain": [
              "                                                                       0  ...                                                  4\n",
              "adult                                                              False  ...                                              False\n",
              "belongs_to_collection  {'id': 10194, 'name': 'Toy Story Collection', ...  ...  {'id': 96871, 'name': 'Father of the Bride Col...\n",
              "budget                                                          30000000  ...                                                  0\n",
              "genres                 [{'id': 16, 'name': 'Animation'}, {'id': 35, '...  ...                     [{'id': 35, 'name': 'Comedy'}]\n",
              "homepage                            http://toystory.disney.com/toy-story  ...                                                NaN\n",
              "id                                                                   862  ...                                              11862\n",
              "imdb_id                                                        tt0114709  ...                                          tt0113041\n",
              "original_language                                                     en  ...                                                 en\n",
              "original_title                                                 Toy Story  ...                        Father of the Bride Part II\n",
              "overview               Led by Woody, Andy's toys live happily in his ...  ...  Just when George Banks has recovered from his ...\n",
              "popularity                                                       21.9469  ...                                            8.38752\n",
              "poster_path                             /rhIRbceoE9lR4veEXuwCC2wARtG.jpg  ...                   /e64sOI48hQXyru7naBFyssKFxVd.jpg\n",
              "production_companies      [{'name': 'Pixar Animation Studios', 'id': 3}]  ...  [{'name': 'Sandollar Productions', 'id': 5842}...\n",
              "production_countries   [{'iso_3166_1': 'US', 'name': 'United States o...  ...  [{'iso_3166_1': 'US', 'name': 'United States o...\n",
              "release_date                                                  1995-10-30  ...                                         1995-02-10\n",
              "revenue                                                      3.73554e+08  ...                                        7.65789e+07\n",
              "runtime                                                               81  ...                                                106\n",
              "spoken_languages                [{'iso_639_1': 'en', 'name': 'English'}]  ...           [{'iso_639_1': 'en', 'name': 'English'}]\n",
              "status                                                          Released  ...                                           Released\n",
              "tagline                                                              NaN  ...  Just When His World Is Back To Normal... He's ...\n",
              "title                                                          Toy Story  ...                        Father of the Bride Part II\n",
              "video                                                              False  ...                                              False\n",
              "vote_average                                                         7.7  ...                                                5.7\n",
              "vote_count                                                          5415  ...                                                173\n",
              "\n",
              "[24 rows x 5 columns]"
            ]
          },
          "metadata": {
            "tags": []
          },
          "execution_count": 158
        }
      ]
    },
    {
      "cell_type": "code",
      "metadata": {
        "id": "_NkKFxltSRB5"
      },
      "source": [
        "# Data Wrangling \r\n",
        "\r\n",
        "# drop imdb id\r\n",
        "df = df.drop(['imdb_id'], axis=1)\r\n",
        "\r\n",
        "# drop original title\r\n",
        "df[df['original_title'] != df['title']][['title', 'original_title']].head()\r\n",
        "df = df.drop('original_title', axis=1)\r\n",
        "\r\n",
        "\r\n"
      ],
      "execution_count": 159,
      "outputs": []
    },
    {
      "cell_type": "code",
      "metadata": {
        "id": "ZAU3Y4KYTLY4"
      },
      "source": [
        "# cleaning the revenue\r\n",
        "df[df['revenue'] == 0].shape\r\n",
        "df['revenue'] = df['revenue'].replace(0, np.nan)"
      ],
      "execution_count": 160,
      "outputs": []
    },
    {
      "cell_type": "code",
      "metadata": {
        "colab": {
          "base_uri": "https://localhost:8080/",
          "height": 0
        },
        "id": "iI-1FSheTmcP",
        "outputId": "2eac1c19-f743-4974-a794-c6bd17dbc061"
      },
      "source": [
        "# cleaning budget feature for uncleaned values\r\n",
        "df['budget'] = pd.to_numeric(df['budget'], errors='coerce')\r\n",
        "df['budget'] = df['budget'].replace(0, np.nan)\r\n",
        "df[df['budget'].isnull()].shape\r\n"
      ],
      "execution_count": 161,
      "outputs": [
        {
          "output_type": "execute_result",
          "data": {
            "text/plain": [
              "(36576, 22)"
            ]
          },
          "metadata": {
            "tags": []
          },
          "execution_count": 161
        }
      ]
    },
    {
      "cell_type": "code",
      "metadata": {
        "id": "dvxpMnuDYIs8"
      },
      "source": [
        "# creating new features\r\n",
        "# year - The year in which the movie was released\r\n",
        "# return  - The ratio of revenue to budget.\r\n",
        "\r\n",
        "df['return'] = df['revenue'] / df['budget']\r\n",
        "df['year'] = pd.to_datetime(df['release_date'], errors='coerce').apply(lambda x: str(x).split('-')[0] if x != np.nan else np.nan)\r\n"
      ],
      "execution_count": 162,
      "outputs": []
    },
    {
      "cell_type": "code",
      "metadata": {
        "id": "XfQEyMTmbAVd"
      },
      "source": [
        "# remove adult featue since close to 0 adult movies in this dataset\r\n",
        "df['adult'].value_counts()\r\n",
        "df = df.drop('adult', axis=1)\r\n",
        "\r\n"
      ],
      "execution_count": 163,
      "outputs": []
    },
    {
      "cell_type": "code",
      "metadata": {
        "id": "p5RhnZVIhVd_"
      },
      "source": [
        "# removing null returns (The ratio of revenue to budget)\r\n",
        "rgf = df[df['return'].notnull()]"
      ],
      "execution_count": 164,
      "outputs": []
    },
    {
      "cell_type": "code",
      "metadata": {
        "colab": {
          "base_uri": "https://localhost:8080/",
          "height": 0
        },
        "id": "ZHK17gQLhlyM",
        "outputId": "5d3c1224-6915-4025-bb94-98a164ccefd1"
      },
      "source": [
        "#We have 5393 records in our training set. Let us take a look at the features we possess and remove the ones which are unnecessary.\r\n",
        "rgf.columns"
      ],
      "execution_count": 165,
      "outputs": [
        {
          "output_type": "execute_result",
          "data": {
            "text/plain": [
              "Index(['belongs_to_collection', 'budget', 'genres', 'homepage', 'id',\n",
              "       'original_language', 'overview', 'popularity', 'poster_path',\n",
              "       'production_companies', 'production_countries', 'release_date',\n",
              "       'revenue', 'runtime', 'spoken_languages', 'status', 'tagline', 'title',\n",
              "       'video', 'vote_average', 'vote_count', 'return', 'year'],\n",
              "      dtype='object')"
            ]
          },
          "metadata": {
            "tags": []
          },
          "execution_count": 165
        }
      ]
    },
    {
      "cell_type": "code",
      "metadata": {
        "id": "Hmd66BIEhv0u"
      },
      "source": [
        "# will remove more unwanted features\r\n",
        "\r\n",
        "rgf = rgf.drop(['id', 'overview', 'status', 'tagline', 'video', 'return', 'homepage', 'year', 'title', 'poster_path'], axis=1)\r\n",
        "\r\n",
        "# since vote_average', 'vote_count are not availbe when movie is relased \r\n",
        "rgf = rgf.drop(['vote_average', 'vote_count'],  axis=1)"
      ],
      "execution_count": 166,
      "outputs": []
    },
    {
      "cell_type": "code",
      "metadata": {
        "id": "dnEf4zSnUB45"
      },
      "source": [
        "def get_month(x):\r\n",
        "  month_order = ['Jan', 'Feb', 'Mar', 'Apr', 'May', 'Jun', 'Jul', 'Aug', 'Sep', 'Oct', 'Nov', 'Dec']\r\n",
        "  try:\r\n",
        "      return month_order[int(str(x).split('-')[1]) - 1]\r\n",
        "  except:\r\n",
        "      return np.nan"
      ],
      "execution_count": 167,
      "outputs": []
    },
    {
      "cell_type": "code",
      "metadata": {
        "id": "Jd-UX6lSUQ4F"
      },
      "source": [
        "def get_day(x):\r\n",
        "  day_order = ['Mon', 'Tue', 'Wed', 'Thu', 'Fri', 'Sat', 'Sun']\r\n",
        "  try:\r\n",
        "      year, month, day = (int(i) for i in x.split('-'))    \r\n",
        "      answer = datetime.date(year, month, day).weekday()\r\n",
        "      return day_order[answer]\r\n",
        "  except:\r\n",
        "      return np.nan"
      ],
      "execution_count": 168,
      "outputs": []
    },
    {
      "cell_type": "code",
      "metadata": {
        "id": "sjwLfsgFH2cm"
      },
      "source": [
        "def feature_engineering(df):\r\n",
        "  # belongs_to_collection will be turned into a Boolean variable. 1 indicates a movie is a part of collection whereas 0 indicates it is not.\r\n",
        "  df['belongs_to_collection'] = df['belongs_to_collection'].apply(lambda x: 0 if x == np.nan else 1)\r\n",
        "  # genres will be converted into number of genres.\r\n",
        "  df['genres'] = df['genres'].fillna('[]').apply(ast.literal_eval)\r\n",
        "  df['genres'] = df['genres'].apply(lambda x: [i['id'] for i in x] if isinstance(x, list) else [])\r\n",
        "  df['genres'] = df['genres'].apply(lambda x: len(x))\r\n",
        "\r\n",
        "  # production_companies will be replaced with just the number of production companies collaborating to make the movie.\r\n",
        "  df['production_companies'] = df['production_companies'].fillna('[]').apply(ast.literal_eval)  \r\n",
        "  df['production_companies'] = df['production_companies'].apply(lambda x: [i['name'] for i in x] if isinstance(x, list) else [])\r\n",
        "  df['production_companies'] = df['production_companies'].apply(lambda x: len(x))\r\n",
        "  # production_countries will be replaced with the number of countries the film was shot in.\r\n",
        "  df['production_countries'] = df['production_countries'].fillna('[]').apply(ast.literal_eval)\r\n",
        "  df['production_countries'] = df['production_countries'].apply(lambda x: [i['name'] for i in x] if isinstance(x, list) else [])\r\n",
        "  df['production_countries'] = df['production_countries'].apply(lambda x: len(x))\r\n",
        "\r\n",
        "  # original_language will be replaced by a feature called is_foreign to denote if a particular film is in English or a Foreign Language.\r\n",
        "  df['is_english'] = df['original_language'].apply(lambda x: 1 if x=='en' else 0)\r\n",
        "  df = df.drop('original_language', axis=1)\r\n",
        "\r\n",
        "  # spoken_languages wil be replaced by a feature called Spoken_only_english. indicates a only english is spoken in the movie whereas 0 indicates it is not.\r\n",
        "  df['spoken_languages'] = df['spoken_languages'].fillna('[]').apply(ast.literal_eval)\r\n",
        "  df['spoken_languages'] = df['spoken_languages'].apply(lambda x: [i['iso_639_1'] for i in x] if isinstance(x, list) else [])\r\n",
        "  df['Spoken_only_english'] = rgf['spoken_languages'].apply(lambda x: 1 if any('en' in lan for lan in x) and len(x) == 1 else 0) \r\n",
        "  df = df.drop(['spoken_languages'],  axis=1)\r\n",
        "\r\n",
        "  # df = pd.get_dummies(df, prefix='is')\r\n",
        "  df['runtime'] = df['runtime'].fillna(df['runtime'].mean())\r\n",
        "\r\n",
        "  #date\r\n",
        "  df['day'] = df['release_date'].apply(get_day)\r\n",
        "  df['month'] = df['release_date'].apply(get_month)\r\n",
        "  df['is_Friday'] = df['day'].apply(lambda x: 1 if x=='Fri' else 0)\r\n",
        "  df = df.drop('day', axis=1)\r\n",
        "  df['is_Holiday_Seasons'] = df['month'].apply(lambda x: 1 if x in ['May', 'Apr', 'Dec'] else 0)\r\n",
        "  df = df.drop('month', axis=1)\r\n",
        "  df = df.drop('release_date', axis=1)\r\n",
        "  return df"
      ],
      "execution_count": 169,
      "outputs": []
    },
    {
      "cell_type": "code",
      "metadata": {
        "id": "jPwMPX3fnhvF"
      },
      "source": [
        "X, y = rgf.drop('revenue', axis=1), rgf['revenue']"
      ],
      "execution_count": 170,
      "outputs": []
    },
    {
      "cell_type": "code",
      "metadata": {
        "id": "9sdXV_maKY1J"
      },
      "source": [
        "# feature engineering tasks\r\n",
        "X = feature_engineering(X)"
      ],
      "execution_count": 171,
      "outputs": []
    },
    {
      "cell_type": "code",
      "metadata": {
        "id": "j-InHs-EnmDD"
      },
      "source": [
        "#sperate traning data and test data\r\n",
        "train_X, test_X, train_y, test_y = train_test_split(X, y, train_size=0.75, test_size=0.25)"
      ],
      "execution_count": 172,
      "outputs": []
    },
    {
      "cell_type": "code",
      "metadata": {
        "colab": {
          "base_uri": "https://localhost:8080/",
          "height": 419
        },
        "id": "eM-hn1zx2pMr",
        "outputId": "20a4c32b-26a8-4c44-bdf3-acef9251cf09"
      },
      "source": [
        "train_X.head(100)"
      ],
      "execution_count": 173,
      "outputs": [
        {
          "output_type": "execute_result",
          "data": {
            "text/html": [
              "<div>\n",
              "<style scoped>\n",
              "    .dataframe tbody tr th:only-of-type {\n",
              "        vertical-align: middle;\n",
              "    }\n",
              "\n",
              "    .dataframe tbody tr th {\n",
              "        vertical-align: top;\n",
              "    }\n",
              "\n",
              "    .dataframe thead th {\n",
              "        text-align: right;\n",
              "    }\n",
              "</style>\n",
              "<table border=\"1\" class=\"dataframe\">\n",
              "  <thead>\n",
              "    <tr style=\"text-align: right;\">\n",
              "      <th></th>\n",
              "      <th>belongs_to_collection</th>\n",
              "      <th>budget</th>\n",
              "      <th>genres</th>\n",
              "      <th>popularity</th>\n",
              "      <th>production_companies</th>\n",
              "      <th>production_countries</th>\n",
              "      <th>runtime</th>\n",
              "      <th>is_english</th>\n",
              "      <th>Spoken_only_english</th>\n",
              "      <th>is_Friday</th>\n",
              "      <th>is_Holiday_Seasons</th>\n",
              "    </tr>\n",
              "  </thead>\n",
              "  <tbody>\n",
              "    <tr>\n",
              "      <th>20447</th>\n",
              "      <td>1</td>\n",
              "      <td>92000000.0</td>\n",
              "      <td>2</td>\n",
              "      <td>12.4719</td>\n",
              "      <td>9</td>\n",
              "      <td>1</td>\n",
              "      <td>98.0</td>\n",
              "      <td>1</td>\n",
              "      <td>0</td>\n",
              "      <td>0</td>\n",
              "      <td>0</td>\n",
              "    </tr>\n",
              "    <tr>\n",
              "      <th>2374</th>\n",
              "      <td>1</td>\n",
              "      <td>7300.0</td>\n",
              "      <td>3</td>\n",
              "      <td>0.137676</td>\n",
              "      <td>0</td>\n",
              "      <td>1</td>\n",
              "      <td>87.0</td>\n",
              "      <td>1</td>\n",
              "      <td>0</td>\n",
              "      <td>1</td>\n",
              "      <td>0</td>\n",
              "    </tr>\n",
              "    <tr>\n",
              "      <th>17653</th>\n",
              "      <td>1</td>\n",
              "      <td>100000.0</td>\n",
              "      <td>2</td>\n",
              "      <td>8.95737</td>\n",
              "      <td>1</td>\n",
              "      <td>1</td>\n",
              "      <td>92.0</td>\n",
              "      <td>1</td>\n",
              "      <td>0</td>\n",
              "      <td>1</td>\n",
              "      <td>0</td>\n",
              "    </tr>\n",
              "    <tr>\n",
              "      <th>2772</th>\n",
              "      <td>1</td>\n",
              "      <td>8000000.0</td>\n",
              "      <td>4</td>\n",
              "      <td>4.6064</td>\n",
              "      <td>3</td>\n",
              "      <td>1</td>\n",
              "      <td>91.0</td>\n",
              "      <td>1</td>\n",
              "      <td>0</td>\n",
              "      <td>1</td>\n",
              "      <td>0</td>\n",
              "    </tr>\n",
              "    <tr>\n",
              "      <th>19862</th>\n",
              "      <td>1</td>\n",
              "      <td>33000000.0</td>\n",
              "      <td>3</td>\n",
              "      <td>7.85997</td>\n",
              "      <td>1</td>\n",
              "      <td>1</td>\n",
              "      <td>99.0</td>\n",
              "      <td>1</td>\n",
              "      <td>0</td>\n",
              "      <td>0</td>\n",
              "      <td>0</td>\n",
              "    </tr>\n",
              "    <tr>\n",
              "      <th>...</th>\n",
              "      <td>...</td>\n",
              "      <td>...</td>\n",
              "      <td>...</td>\n",
              "      <td>...</td>\n",
              "      <td>...</td>\n",
              "      <td>...</td>\n",
              "      <td>...</td>\n",
              "      <td>...</td>\n",
              "      <td>...</td>\n",
              "      <td>...</td>\n",
              "      <td>...</td>\n",
              "    </tr>\n",
              "    <tr>\n",
              "      <th>11808</th>\n",
              "      <td>1</td>\n",
              "      <td>2380000.0</td>\n",
              "      <td>2</td>\n",
              "      <td>2.51464</td>\n",
              "      <td>4</td>\n",
              "      <td>1</td>\n",
              "      <td>101.0</td>\n",
              "      <td>1</td>\n",
              "      <td>0</td>\n",
              "      <td>0</td>\n",
              "      <td>0</td>\n",
              "    </tr>\n",
              "    <tr>\n",
              "      <th>4975</th>\n",
              "      <td>1</td>\n",
              "      <td>12000000.0</td>\n",
              "      <td>7</td>\n",
              "      <td>6.63136</td>\n",
              "      <td>2</td>\n",
              "      <td>1</td>\n",
              "      <td>93.0</td>\n",
              "      <td>1</td>\n",
              "      <td>0</td>\n",
              "      <td>1</td>\n",
              "      <td>0</td>\n",
              "    </tr>\n",
              "    <tr>\n",
              "      <th>35281</th>\n",
              "      <td>1</td>\n",
              "      <td>10000000.0</td>\n",
              "      <td>2</td>\n",
              "      <td>1.634827</td>\n",
              "      <td>1</td>\n",
              "      <td>1</td>\n",
              "      <td>87.0</td>\n",
              "      <td>1</td>\n",
              "      <td>0</td>\n",
              "      <td>1</td>\n",
              "      <td>0</td>\n",
              "    </tr>\n",
              "    <tr>\n",
              "      <th>2282</th>\n",
              "      <td>1</td>\n",
              "      <td>9000000.0</td>\n",
              "      <td>2</td>\n",
              "      <td>5.99705</td>\n",
              "      <td>1</td>\n",
              "      <td>1</td>\n",
              "      <td>93.0</td>\n",
              "      <td>1</td>\n",
              "      <td>0</td>\n",
              "      <td>0</td>\n",
              "      <td>0</td>\n",
              "    </tr>\n",
              "    <tr>\n",
              "      <th>2597</th>\n",
              "      <td>1</td>\n",
              "      <td>65000000.0</td>\n",
              "      <td>2</td>\n",
              "      <td>13.2685</td>\n",
              "      <td>4</td>\n",
              "      <td>2</td>\n",
              "      <td>159.0</td>\n",
              "      <td>1</td>\n",
              "      <td>0</td>\n",
              "      <td>0</td>\n",
              "      <td>0</td>\n",
              "    </tr>\n",
              "  </tbody>\n",
              "</table>\n",
              "<p>100 rows × 11 columns</p>\n",
              "</div>"
            ],
            "text/plain": [
              "       belongs_to_collection      budget  ...  is_Friday is_Holiday_Seasons\n",
              "20447                      1  92000000.0  ...          0                  0\n",
              "2374                       1      7300.0  ...          1                  0\n",
              "17653                      1    100000.0  ...          1                  0\n",
              "2772                       1   8000000.0  ...          1                  0\n",
              "19862                      1  33000000.0  ...          0                  0\n",
              "...                      ...         ...  ...        ...                ...\n",
              "11808                      1   2380000.0  ...          0                  0\n",
              "4975                       1  12000000.0  ...          1                  0\n",
              "35281                      1  10000000.0  ...          1                  0\n",
              "2282                       1   9000000.0  ...          0                  0\n",
              "2597                       1  65000000.0  ...          0                  0\n",
              "\n",
              "[100 rows x 11 columns]"
            ]
          },
          "metadata": {
            "tags": []
          },
          "execution_count": 173
        }
      ]
    },
    {
      "cell_type": "code",
      "metadata": {
        "colab": {
          "base_uri": "https://localhost:8080/",
          "height": 0
        },
        "id": "ws1ULP_L16Pf",
        "outputId": "29b6f84b-6b80-4367-e739-20832cff83bf"
      },
      "source": [
        "# regression model\r\n",
        "\r\n",
        "reg = GradientBoostingRegressor()\r\n",
        "reg.fit(train_X, train_y)\r\n",
        "reg.score(test_X, test_y)\r\n",
        "\r\n",
        "#We get a Coefficient of Determination of 0.78 which is a pretty score for the basic model that we have built"
      ],
      "execution_count": 174,
      "outputs": [
        {
          "output_type": "execute_result",
          "data": {
            "text/plain": [
              "0.6534601567854884"
            ]
          },
          "metadata": {
            "tags": []
          },
          "execution_count": 174
        }
      ]
    },
    {
      "cell_type": "code",
      "metadata": {
        "colab": {
          "base_uri": "https://localhost:8080/",
          "height": 724
        },
        "id": "B3qpQUEbG_c8",
        "outputId": "1f2cda44-c656-45cc-a57e-a08ec2eab417"
      },
      "source": [
        "#let us plot the feature importances in the form of a bar plot to deduce which features were the most significant in our making predictions.\r\n",
        "sns.set_style('whitegrid')\r\n",
        "plt.figure(figsize=(20,12))\r\n",
        "sns.barplot(x=reg.feature_importances_, y=X.columns)\r\n"
      ],
      "execution_count": 175,
      "outputs": [
        {
          "output_type": "execute_result",
          "data": {
            "text/plain": [
              "<matplotlib.axes._subplots.AxesSubplot at 0x7fb328771320>"
            ]
          },
          "metadata": {
            "tags": []
          },
          "execution_count": 175
        },
        {
          "output_type": "display_data",
          "data": {
            "image/png": "[encoded data removed]",
            "text/plain": [
              "<Figure size 1440x864 with 1 Axes>"
            ]
          },
          "metadata": {
            "tags": []
          }
        }
      ]
    },
    {
      "cell_type": "code",
      "metadata": {
        "id": "0yj27LkcYE9s"
      },
      "source": [
        "# Classification: Predicting Movie Sucesss\r\n",
        "cls = df[df['return'].notnull()]\r\n",
        "cls = cls.drop(['id', 'overview', 'status', 'tagline', 'revenue', 'poster_path'], axis=1)\r\n",
        "cls['return'] = cls['return'].apply(lambda x: 1 if x >=1 else 0)\r\n",
        "cls['belongs_to_collection'] = cls['belongs_to_collection'].fillna('').apply(lambda x: 0 if x == '' else 1)"
      ],
      "execution_count": 176,
      "outputs": []
    },
    {
      "cell_type": "code",
      "metadata": {
        "id": "GtHT6uHVYt-T"
      },
      "source": [
        "def classification_engineering(df):\r\n",
        "  # for genre in genres_train:\r\n",
        "  # genres will be converted into number of genres.\r\n",
        "  df['genres'] = df['genres'].fillna('[]').apply(ast.literal_eval)\r\n",
        "  df['genres'] = df['genres'].apply(lambda x: [i['id'] for i in x] if isinstance(x, list) else [])\r\n",
        "  df['genres'] = df['genres'].apply(lambda x: len(x))\r\n",
        "  df['is_english'] = df['original_language'].apply(lambda x: 1 if x=='en' else 0)\r\n",
        "  df = df.drop('original_language', axis=1)\r\n",
        "  df['production_companies'] = df['production_companies'].apply(lambda x: len(x))\r\n",
        "  df['production_countries'] = df['production_countries'].apply(lambda x: len(x))\r\n",
        "\r\n",
        "  \r\n",
        "  # spoken_languages wil be replaced by a feature called Spoken_only_english. indicates a only english is spoken in the movie whereas 0 indicates it is not.\r\n",
        "  df['spoken_languages'] = df['spoken_languages'].fillna('[]').apply(ast.literal_eval)\r\n",
        "  df['spoken_languages'] = df['spoken_languages'].apply(lambda x: [i['iso_639_1'] for i in x] if isinstance(x, list) else [])\r\n",
        "  df['Spoken_only_english'] = rgf['spoken_languages'].apply(lambda x: 1 if any('en' in lan for lan in x) and len(x) == 1 else 0) \r\n",
        "  df = df.drop(['spoken_languages'],  axis=1)\r\n",
        "\r\n",
        "\r\n",
        "  #date\r\n",
        "  df['day'] = df['release_date'].apply(get_day)\r\n",
        "  df['month'] = df['release_date'].apply(get_month)\r\n",
        "  df['is_Friday'] = df['day'].apply(lambda x: 1 if x=='Fri' else 0)\r\n",
        "  df = df.drop('day', axis=1)\r\n",
        "  df['is_Holiday_Seasons'] = df['month'].apply(lambda x: 1 if x in ['Apr', 'Dec', 'May'] else 0)\r\n",
        "  df = df.drop('month', axis=1)\r\n",
        "  df = df.drop('release_date', axis= 1)\r\n",
        "  df = df.drop(['title'], axis=1)\r\n",
        "  df = df.drop('homepage', axis=1)\r\n",
        "  df = df.drop('video', axis=1)\r\n",
        "  df['runtime'] = df['runtime'].fillna(df['runtime'].mean())\r\n",
        "  # since vote_average', 'vote_count are not availbe when movie is relased \r\n",
        "  df = df.drop(['vote_average', 'vote_count'],  axis=1)\r\n",
        "  return df"
      ],
      "execution_count": 177,
      "outputs": []
    },
    {
      "cell_type": "code",
      "metadata": {
        "id": "KkjJgAS3ZDpI"
      },
      "source": [
        "cls = classification_engineering(cls)"
      ],
      "execution_count": 178,
      "outputs": []
    },
    {
      "cell_type": "code",
      "metadata": {
        "colab": {
          "base_uri": "https://localhost:8080/",
          "height": 359
        },
        "id": "4m0zv-IGUSsX",
        "outputId": "9625050c-55c9-4450-81a8-8fd109e0f2e2"
      },
      "source": [
        "train_X.head(10)"
      ],
      "execution_count": 179,
      "outputs": [
        {
          "output_type": "execute_result",
          "data": {
            "text/html": [
              "<div>\n",
              "<style scoped>\n",
              "    .dataframe tbody tr th:only-of-type {\n",
              "        vertical-align: middle;\n",
              "    }\n",
              "\n",
              "    .dataframe tbody tr th {\n",
              "        vertical-align: top;\n",
              "    }\n",
              "\n",
              "    .dataframe thead th {\n",
              "        text-align: right;\n",
              "    }\n",
              "</style>\n",
              "<table border=\"1\" class=\"dataframe\">\n",
              "  <thead>\n",
              "    <tr style=\"text-align: right;\">\n",
              "      <th></th>\n",
              "      <th>belongs_to_collection</th>\n",
              "      <th>budget</th>\n",
              "      <th>genres</th>\n",
              "      <th>popularity</th>\n",
              "      <th>production_companies</th>\n",
              "      <th>production_countries</th>\n",
              "      <th>runtime</th>\n",
              "      <th>is_english</th>\n",
              "      <th>Spoken_only_english</th>\n",
              "      <th>is_Friday</th>\n",
              "      <th>is_Holiday_Seasons</th>\n",
              "    </tr>\n",
              "  </thead>\n",
              "  <tbody>\n",
              "    <tr>\n",
              "      <th>20447</th>\n",
              "      <td>1</td>\n",
              "      <td>92000000.0</td>\n",
              "      <td>2</td>\n",
              "      <td>12.4719</td>\n",
              "      <td>9</td>\n",
              "      <td>1</td>\n",
              "      <td>98.0</td>\n",
              "      <td>1</td>\n",
              "      <td>0</td>\n",
              "      <td>0</td>\n",
              "      <td>0</td>\n",
              "    </tr>\n",
              "    <tr>\n",
              "      <th>2374</th>\n",
              "      <td>1</td>\n",
              "      <td>7300.0</td>\n",
              "      <td>3</td>\n",
              "      <td>0.137676</td>\n",
              "      <td>0</td>\n",
              "      <td>1</td>\n",
              "      <td>87.0</td>\n",
              "      <td>1</td>\n",
              "      <td>0</td>\n",
              "      <td>1</td>\n",
              "      <td>0</td>\n",
              "    </tr>\n",
              "    <tr>\n",
              "      <th>17653</th>\n",
              "      <td>1</td>\n",
              "      <td>100000.0</td>\n",
              "      <td>2</td>\n",
              "      <td>8.95737</td>\n",
              "      <td>1</td>\n",
              "      <td>1</td>\n",
              "      <td>92.0</td>\n",
              "      <td>1</td>\n",
              "      <td>0</td>\n",
              "      <td>1</td>\n",
              "      <td>0</td>\n",
              "    </tr>\n",
              "    <tr>\n",
              "      <th>2772</th>\n",
              "      <td>1</td>\n",
              "      <td>8000000.0</td>\n",
              "      <td>4</td>\n",
              "      <td>4.6064</td>\n",
              "      <td>3</td>\n",
              "      <td>1</td>\n",
              "      <td>91.0</td>\n",
              "      <td>1</td>\n",
              "      <td>0</td>\n",
              "      <td>1</td>\n",
              "      <td>0</td>\n",
              "    </tr>\n",
              "    <tr>\n",
              "      <th>19862</th>\n",
              "      <td>1</td>\n",
              "      <td>33000000.0</td>\n",
              "      <td>3</td>\n",
              "      <td>7.85997</td>\n",
              "      <td>1</td>\n",
              "      <td>1</td>\n",
              "      <td>99.0</td>\n",
              "      <td>1</td>\n",
              "      <td>0</td>\n",
              "      <td>0</td>\n",
              "      <td>0</td>\n",
              "    </tr>\n",
              "    <tr>\n",
              "      <th>11985</th>\n",
              "      <td>1</td>\n",
              "      <td>20000000.0</td>\n",
              "      <td>1</td>\n",
              "      <td>16.2051</td>\n",
              "      <td>2</td>\n",
              "      <td>1</td>\n",
              "      <td>113.0</td>\n",
              "      <td>1</td>\n",
              "      <td>0</td>\n",
              "      <td>1</td>\n",
              "      <td>0</td>\n",
              "    </tr>\n",
              "    <tr>\n",
              "      <th>1902</th>\n",
              "      <td>1</td>\n",
              "      <td>40000000.0</td>\n",
              "      <td>4</td>\n",
              "      <td>13.6899</td>\n",
              "      <td>3</td>\n",
              "      <td>1</td>\n",
              "      <td>108.0</td>\n",
              "      <td>1</td>\n",
              "      <td>0</td>\n",
              "      <td>0</td>\n",
              "      <td>0</td>\n",
              "    </tr>\n",
              "    <tr>\n",
              "      <th>16211</th>\n",
              "      <td>1</td>\n",
              "      <td>65000.0</td>\n",
              "      <td>3</td>\n",
              "      <td>2.79936</td>\n",
              "      <td>1</td>\n",
              "      <td>1</td>\n",
              "      <td>99.0</td>\n",
              "      <td>1</td>\n",
              "      <td>0</td>\n",
              "      <td>1</td>\n",
              "      <td>0</td>\n",
              "    </tr>\n",
              "    <tr>\n",
              "      <th>22415</th>\n",
              "      <td>1</td>\n",
              "      <td>5000000.0</td>\n",
              "      <td>2</td>\n",
              "      <td>8.89852</td>\n",
              "      <td>3</td>\n",
              "      <td>1</td>\n",
              "      <td>84.0</td>\n",
              "      <td>1</td>\n",
              "      <td>0</td>\n",
              "      <td>0</td>\n",
              "      <td>0</td>\n",
              "    </tr>\n",
              "    <tr>\n",
              "      <th>4596</th>\n",
              "      <td>1</td>\n",
              "      <td>1500000.0</td>\n",
              "      <td>2</td>\n",
              "      <td>14.2422</td>\n",
              "      <td>3</td>\n",
              "      <td>1</td>\n",
              "      <td>100.0</td>\n",
              "      <td>1</td>\n",
              "      <td>0</td>\n",
              "      <td>1</td>\n",
              "      <td>0</td>\n",
              "    </tr>\n",
              "  </tbody>\n",
              "</table>\n",
              "</div>"
            ],
            "text/plain": [
              "       belongs_to_collection      budget  ...  is_Friday is_Holiday_Seasons\n",
              "20447                      1  92000000.0  ...          0                  0\n",
              "2374                       1      7300.0  ...          1                  0\n",
              "17653                      1    100000.0  ...          1                  0\n",
              "2772                       1   8000000.0  ...          1                  0\n",
              "19862                      1  33000000.0  ...          0                  0\n",
              "11985                      1  20000000.0  ...          1                  0\n",
              "1902                       1  40000000.0  ...          0                  0\n",
              "16211                      1     65000.0  ...          1                  0\n",
              "22415                      1   5000000.0  ...          0                  0\n",
              "4596                       1   1500000.0  ...          1                  0\n",
              "\n",
              "[10 rows x 11 columns]"
            ]
          },
          "metadata": {
            "tags": []
          },
          "execution_count": 179
        }
      ]
    },
    {
      "cell_type": "code",
      "metadata": {
        "colab": {
          "base_uri": "https://localhost:8080/",
          "height": 0
        },
        "id": "cT9Cha45fHVL",
        "outputId": "95edf76e-2735-4a41-cac7-6f32bb9fea76"
      },
      "source": [
        "X, y = cls.drop('return', axis=1), cls['return']\r\n",
        "train_X, test_X, train_y, test_y = train_test_split(X, y, train_size=0.75, test_size=0.25, stratify=y)\r\n",
        "clf = GradientBoostingClassifier()\r\n",
        "clf.fit(train_X, train_y)\r\n",
        "clf.score(test_X, test_y)\r\n",
        "\r\n",
        "# Gradient Boosting Classifier has an accuracy of 80%. "
      ],
      "execution_count": 180,
      "outputs": [
        {
          "output_type": "execute_result",
          "data": {
            "text/plain": [
              "0.7563150074294205"
            ]
          },
          "metadata": {
            "tags": []
          },
          "execution_count": 180
        }
      ]
    },
    {
      "cell_type": "code",
      "metadata": {
        "colab": {
          "base_uri": "https://localhost:8080/",
          "height": 724
        },
        "id": "EHoOgkTShD-f",
        "outputId": "f2836be4-70e9-4531-8f94-af80bad1cc80"
      },
      "source": [
        "plt.figure(figsize=(15,12))\r\n",
        "sns.barplot(x=clf.feature_importances_, y=X.columns)"
      ],
      "execution_count": 181,
      "outputs": [
        {
          "output_type": "execute_result",
          "data": {
            "text/plain": [
              "<matplotlib.axes._subplots.AxesSubplot at 0x7fb326df8240>"
            ]
          },
          "metadata": {
            "tags": []
          },
          "execution_count": 181
        },
        {
          "output_type": "display_data",
          "data": {
            "image/png": "[encoded data removed]",
            "text/plain": [
              "<Figure size 1080x864 with 1 Axes>"
            ]
          },
          "metadata": {
            "tags": []
          }
        }
      ]
    },
    {
      "cell_type": "code",
      "metadata": {
        "colab": {
          "base_uri": "https://localhost:8080/",
          "height": 0
        },
        "id": "QAwOMciQ_lyC",
        "outputId": "1534b436-947a-4508-c1fb-86b2d271acac"
      },
      "source": [
        "test_X.shape"
      ],
      "execution_count": 197,
      "outputs": [
        {
          "output_type": "execute_result",
          "data": {
            "text/plain": [
              "(1346, 12)"
            ]
          },
          "metadata": {
            "tags": []
          },
          "execution_count": 197
        }
      ]
    },
    {
      "cell_type": "code",
      "metadata": {
        "id": "sa-K9U4n-MFA"
      },
      "source": [
        "# testing the classifer \r\n",
        "import random\r\n",
        "\r\n",
        "movie1 = [test_X.iloc[random.randint(0,1345)]]\r\n",
        "movie2 = [test_X.iloc[random.randint(0,1345)]]"
      ],
      "execution_count": 204,
      "outputs": []
    },
    {
      "cell_type": "code",
      "metadata": {
        "colab": {
          "base_uri": "https://localhost:8080/",
          "height": 0
        },
        "id": "wHAzS9za4eHI",
        "outputId": "f95fe484-0835-4d31-e63b-401b7dd47a8b"
      },
      "source": [
        "#movie1 prediction\r\n",
        "yhat1 = clf.predict(movie1)\r\n",
        "print('Predicted Class: %d' % yhat1[0])"
      ],
      "execution_count": 216,
      "outputs": [
        {
          "output_type": "stream",
          "text": [
            "Predicted Class: 1\n"
          ],
          "name": "stdout"
        }
      ]
    },
    {
      "cell_type": "code",
      "metadata": {
        "id": "D5BxOMbjhPRx",
        "colab": {
          "base_uri": "https://localhost:8080/",
          "height": 0
        },
        "outputId": "814010c6-c3f9-4034-9f23-24244ebe03bc"
      },
      "source": [
        "#movie2 prediction\r\n",
        "yhat2 = clf.predict(movie2)\r\n",
        "print('Predicted Class: %d' % yhat2[0])"
      ],
      "execution_count": 217,
      "outputs": [
        {
          "output_type": "stream",
          "text": [
            "Predicted Class: 0\n"
          ],
          "name": "stdout"
        }
      ]
    }
  ]
}
